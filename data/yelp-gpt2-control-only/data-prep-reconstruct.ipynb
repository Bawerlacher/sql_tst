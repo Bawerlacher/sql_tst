{
 "cells": [
  {
   "cell_type": "code",
   "execution_count": 1,
   "id": "funny-analysis",
   "metadata": {},
   "outputs": [],
   "source": [
    "from transformers import AutoTokenizer, AutoModelWithLMHead\n",
    "  \n",
    "tokenizer = AutoTokenizer.from_pretrained(\"distilgpt2\")"
   ]
  },
  {
   "cell_type": "code",
   "execution_count": 2,
   "id": "statutory-indian",
   "metadata": {},
   "outputs": [],
   "source": [
    "file_names = [('./raw/sentiment.train.0', './train.sentences.0'),\n",
    "              ('./raw/sentiment.train.1', './train.sentences.1'),\n",
    "              ('./raw/sentiment.dev.0', './dev.sentences.0'),\n",
    "              ('./raw/sentiment.dev.1', './dev.sentences.1'),]\n",
    "for in_file, out_file in file_names: \n",
    "    with open(in_file, 'r') as fr: \n",
    "        sentences = []\n",
    "        for line in fr: \n",
    "            sentence = line.strip()\n",
    "            input_ids = tokenizer(sentence, add_special_tokens=False)['input_ids']\n",
    "            subwords = tokenizer.convert_ids_to_tokens(input_ids)\n",
    "            subword_str = ' '.join(subwords)\n",
    "            sentences.append(subword_str)\n",
    "    with open(out_file, 'w') as fw: \n",
    "        for s in sentences: \n",
    "            fw.write(s + '\\n')"
   ]
  },
  {
   "cell_type": "code",
   "execution_count": 4,
   "id": "direct-emission",
   "metadata": {},
   "outputs": [],
   "source": [
    "file_names = [('./train.source.reconstruct', './train.target.reconstruct'),]\n",
    "for source_file, target_file in file_names: \n",
    "    \n",
    "    rep = 10000\n",
    "    control_lines = ['reconstruct']\n",
    "    with open(source_file, 'w') as fw: \n",
    "        for _ in range(rep): \n",
    "            for line in control_lines: \n",
    "#                 input_ids = tokenizer(line, add_special_tokens=False)['input_ids']\n",
    "#                 subwords = tokenizer.convert_ids_to_tokens(input_ids)\n",
    "#                 subword_str = ' '.join(subwords)\n",
    "                subword_str = line\n",
    "                fw.write(subword_str + '\\n')\n",
    "\n",
    "    target_lines = ['Ġreconstruct']\n",
    "    prompt_length = 5\n",
    "    with open(target_file, 'w') as fw: \n",
    "        for _ in range(rep): \n",
    "            for line in target_lines: \n",
    "                fw.write(' '.join([line] * prompt_length) + '\\n')"
   ]
  },
  {
   "cell_type": "code",
   "execution_count": 5,
   "id": "romantic-twins",
   "metadata": {},
   "outputs": [],
   "source": [
    "file_names = [('./dev.source.reconstruct', './dev.target.reconstruct'),]\n",
    "for source_file, target_file in file_names: \n",
    "    \n",
    "    rep = 10\n",
    "    control_lines = ['reconstruct']\n",
    "    with open(source_file, 'w') as fw: \n",
    "        for _ in range(rep): \n",
    "            for line in control_lines: \n",
    "#                 input_ids = tokenizer(line, add_special_tokens=False)['input_ids']\n",
    "#                 subwords = tokenizer.convert_ids_to_tokens(input_ids)\n",
    "#                 subword_str = ' '.join(subwords)\n",
    "                subword_str = line\n",
    "                fw.write(subword_str + '\\n')\n",
    "\n",
    "    target_lines = ['Ġreconstruct']\n",
    "    prompt_length = 5\n",
    "    with open(target_file, 'w') as fw: \n",
    "        for _ in range(rep): \n",
    "            for line in target_lines: \n",
    "                fw.write(' '.join([line] * prompt_length) + '\\n')"
   ]
  },
  {
   "cell_type": "code",
   "execution_count": null,
   "id": "central-budget",
   "metadata": {},
   "outputs": [],
   "source": []
  }
 ],
 "metadata": {
  "kernelspec": {
   "display_name": "Python 3",
   "language": "python",
   "name": "python3"
  },
  "language_info": {
   "codemirror_mode": {
    "name": "ipython",
    "version": 3
   },
   "file_extension": ".py",
   "mimetype": "text/x-python",
   "name": "python",
   "nbconvert_exporter": "python",
   "pygments_lexer": "ipython3",
   "version": "3.8.5"
  }
 },
 "nbformat": 4,
 "nbformat_minor": 5
}
